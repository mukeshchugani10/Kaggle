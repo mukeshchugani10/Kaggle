{
 "cells": [
  {
   "cell_type": "markdown",
   "metadata": {},
   "source": [
    "# Digit Recognizer - Kaggle"
   ]
  },
  {
   "cell_type": "markdown",
   "metadata": {},
   "source": [
    "## Read the data"
   ]
  },
  {
   "cell_type": "code",
   "execution_count": 1,
   "metadata": {},
   "outputs": [
    {
     "data": {
      "text/html": [
       "<div>\n",
       "<style scoped>\n",
       "    .dataframe tbody tr th:only-of-type {\n",
       "        vertical-align: middle;\n",
       "    }\n",
       "\n",
       "    .dataframe tbody tr th {\n",
       "        vertical-align: top;\n",
       "    }\n",
       "\n",
       "    .dataframe thead th {\n",
       "        text-align: right;\n",
       "    }\n",
       "</style>\n",
       "<table border=\"1\" class=\"dataframe\">\n",
       "  <thead>\n",
       "    <tr style=\"text-align: right;\">\n",
       "      <th></th>\n",
       "      <th>label</th>\n",
       "      <th>pixel0</th>\n",
       "      <th>pixel1</th>\n",
       "      <th>pixel2</th>\n",
       "      <th>pixel3</th>\n",
       "      <th>pixel4</th>\n",
       "      <th>pixel5</th>\n",
       "      <th>pixel6</th>\n",
       "      <th>pixel7</th>\n",
       "      <th>pixel8</th>\n",
       "      <th>...</th>\n",
       "      <th>pixel774</th>\n",
       "      <th>pixel775</th>\n",
       "      <th>pixel776</th>\n",
       "      <th>pixel777</th>\n",
       "      <th>pixel778</th>\n",
       "      <th>pixel779</th>\n",
       "      <th>pixel780</th>\n",
       "      <th>pixel781</th>\n",
       "      <th>pixel782</th>\n",
       "      <th>pixel783</th>\n",
       "    </tr>\n",
       "  </thead>\n",
       "  <tbody>\n",
       "    <tr>\n",
       "      <th>0</th>\n",
       "      <td>1</td>\n",
       "      <td>0</td>\n",
       "      <td>0</td>\n",
       "      <td>0</td>\n",
       "      <td>0</td>\n",
       "      <td>0</td>\n",
       "      <td>0</td>\n",
       "      <td>0</td>\n",
       "      <td>0</td>\n",
       "      <td>0</td>\n",
       "      <td>...</td>\n",
       "      <td>0</td>\n",
       "      <td>0</td>\n",
       "      <td>0</td>\n",
       "      <td>0</td>\n",
       "      <td>0</td>\n",
       "      <td>0</td>\n",
       "      <td>0</td>\n",
       "      <td>0</td>\n",
       "      <td>0</td>\n",
       "      <td>0</td>\n",
       "    </tr>\n",
       "    <tr>\n",
       "      <th>1</th>\n",
       "      <td>0</td>\n",
       "      <td>0</td>\n",
       "      <td>0</td>\n",
       "      <td>0</td>\n",
       "      <td>0</td>\n",
       "      <td>0</td>\n",
       "      <td>0</td>\n",
       "      <td>0</td>\n",
       "      <td>0</td>\n",
       "      <td>0</td>\n",
       "      <td>...</td>\n",
       "      <td>0</td>\n",
       "      <td>0</td>\n",
       "      <td>0</td>\n",
       "      <td>0</td>\n",
       "      <td>0</td>\n",
       "      <td>0</td>\n",
       "      <td>0</td>\n",
       "      <td>0</td>\n",
       "      <td>0</td>\n",
       "      <td>0</td>\n",
       "    </tr>\n",
       "    <tr>\n",
       "      <th>2</th>\n",
       "      <td>1</td>\n",
       "      <td>0</td>\n",
       "      <td>0</td>\n",
       "      <td>0</td>\n",
       "      <td>0</td>\n",
       "      <td>0</td>\n",
       "      <td>0</td>\n",
       "      <td>0</td>\n",
       "      <td>0</td>\n",
       "      <td>0</td>\n",
       "      <td>...</td>\n",
       "      <td>0</td>\n",
       "      <td>0</td>\n",
       "      <td>0</td>\n",
       "      <td>0</td>\n",
       "      <td>0</td>\n",
       "      <td>0</td>\n",
       "      <td>0</td>\n",
       "      <td>0</td>\n",
       "      <td>0</td>\n",
       "      <td>0</td>\n",
       "    </tr>\n",
       "    <tr>\n",
       "      <th>3</th>\n",
       "      <td>4</td>\n",
       "      <td>0</td>\n",
       "      <td>0</td>\n",
       "      <td>0</td>\n",
       "      <td>0</td>\n",
       "      <td>0</td>\n",
       "      <td>0</td>\n",
       "      <td>0</td>\n",
       "      <td>0</td>\n",
       "      <td>0</td>\n",
       "      <td>...</td>\n",
       "      <td>0</td>\n",
       "      <td>0</td>\n",
       "      <td>0</td>\n",
       "      <td>0</td>\n",
       "      <td>0</td>\n",
       "      <td>0</td>\n",
       "      <td>0</td>\n",
       "      <td>0</td>\n",
       "      <td>0</td>\n",
       "      <td>0</td>\n",
       "    </tr>\n",
       "    <tr>\n",
       "      <th>4</th>\n",
       "      <td>0</td>\n",
       "      <td>0</td>\n",
       "      <td>0</td>\n",
       "      <td>0</td>\n",
       "      <td>0</td>\n",
       "      <td>0</td>\n",
       "      <td>0</td>\n",
       "      <td>0</td>\n",
       "      <td>0</td>\n",
       "      <td>0</td>\n",
       "      <td>...</td>\n",
       "      <td>0</td>\n",
       "      <td>0</td>\n",
       "      <td>0</td>\n",
       "      <td>0</td>\n",
       "      <td>0</td>\n",
       "      <td>0</td>\n",
       "      <td>0</td>\n",
       "      <td>0</td>\n",
       "      <td>0</td>\n",
       "      <td>0</td>\n",
       "    </tr>\n",
       "  </tbody>\n",
       "</table>\n",
       "<p>5 rows × 785 columns</p>\n",
       "</div>"
      ],
      "text/plain": [
       "   label  pixel0  pixel1  pixel2  pixel3  pixel4  pixel5  pixel6  pixel7  \\\n",
       "0      1       0       0       0       0       0       0       0       0   \n",
       "1      0       0       0       0       0       0       0       0       0   \n",
       "2      1       0       0       0       0       0       0       0       0   \n",
       "3      4       0       0       0       0       0       0       0       0   \n",
       "4      0       0       0       0       0       0       0       0       0   \n",
       "\n",
       "   pixel8    ...     pixel774  pixel775  pixel776  pixel777  pixel778  \\\n",
       "0       0    ...            0         0         0         0         0   \n",
       "1       0    ...            0         0         0         0         0   \n",
       "2       0    ...            0         0         0         0         0   \n",
       "3       0    ...            0         0         0         0         0   \n",
       "4       0    ...            0         0         0         0         0   \n",
       "\n",
       "   pixel779  pixel780  pixel781  pixel782  pixel783  \n",
       "0         0         0         0         0         0  \n",
       "1         0         0         0         0         0  \n",
       "2         0         0         0         0         0  \n",
       "3         0         0         0         0         0  \n",
       "4         0         0         0         0         0  \n",
       "\n",
       "[5 rows x 785 columns]"
      ]
     },
     "execution_count": 1,
     "metadata": {},
     "output_type": "execute_result"
    }
   ],
   "source": [
    "import pandas as pd\n",
    "\n",
    "train_csv = pd.read_csv('train.csv')\n",
    "test_csv = pd.read_csv('test.csv')\n",
    "\n",
    "train_csv.head()"
   ]
  },
  {
   "cell_type": "code",
   "execution_count": 2,
   "metadata": {},
   "outputs": [],
   "source": [
    "train_X = train_csv.loc[:,'pixel0':]\n",
    "train_y = train_csv.loc[:,'label']\n",
    "test_X = test_csv.loc[:,:]"
   ]
  },
  {
   "cell_type": "code",
   "execution_count": 3,
   "metadata": {},
   "outputs": [
    {
     "name": "stdout",
     "output_type": "stream",
     "text": [
      "(42000, 784) (42000,)\n"
     ]
    },
    {
     "data": {
      "text/plain": [
       "numpy.ndarray"
      ]
     },
     "execution_count": 3,
     "metadata": {},
     "output_type": "execute_result"
    }
   ],
   "source": [
    "print(train_X.shape,train_y.shape)\n",
    "type(train_X.values)"
   ]
  },
  {
   "cell_type": "markdown",
   "metadata": {},
   "source": [
    "## Preprocessing"
   ]
  },
  {
   "cell_type": "code",
   "execution_count": 4,
   "metadata": {},
   "outputs": [
    {
     "name": "stdout",
     "output_type": "stream",
     "text": [
      "[26849 37396 16534 ... 41259 18415 13625]\n"
     ]
    }
   ],
   "source": [
    "import numpy as np\n",
    "\n",
    "shuffle_index = np.random.permutation(42000)\n",
    "X_train, y_train = train_X.values[shuffle_index], train_y.values[shuffle_index]\n",
    "print(shuffle_index)"
   ]
  },
  {
   "cell_type": "code",
   "execution_count": 5,
   "metadata": {},
   "outputs": [],
   "source": [
    "from sklearn.preprocessing import StandardScaler\n",
    "\n",
    "sd = StandardScaler()\n",
    "X_train_scaled = sd.fit_transform(X_train.astype(np.float64))"
   ]
  },
  {
   "cell_type": "markdown",
   "metadata": {},
   "source": [
    "### SGD Classifier"
   ]
  },
  {
   "cell_type": "code",
   "execution_count": 6,
   "metadata": {},
   "outputs": [
    {
     "data": {
      "text/plain": [
       "SGDClassifier(alpha=0.0001, average=False, class_weight=None, epsilon=0.1,\n",
       "       eta0=0.0, fit_intercept=True, l1_ratio=0.15,\n",
       "       learning_rate='optimal', loss='hinge', max_iter=5, n_iter=None,\n",
       "       n_jobs=1, penalty='l2', power_t=0.5, random_state=42, shuffle=True,\n",
       "       tol=None, verbose=0, warm_start=False)"
      ]
     },
     "execution_count": 6,
     "metadata": {},
     "output_type": "execute_result"
    }
   ],
   "source": [
    "from sklearn.linear_model import SGDClassifier\n",
    "\n",
    "sgd_cls = SGDClassifier(random_state=42,max_iter=5)\n",
    "sgd_cls.fit(X_train_scaled,y_train)"
   ]
  },
  {
   "cell_type": "code",
   "execution_count": 7,
   "metadata": {},
   "outputs": [
    {
     "name": "stdout",
     "output_type": "stream",
     "text": [
      "[0.90666952 0.9102729  0.90820117]\n"
     ]
    }
   ],
   "source": [
    "from sklearn.model_selection import cross_val_score\n",
    "\n",
    "print(cross_val_score(sgd_cls,X_train_scaled,y_train,cv=3,scoring='accuracy'))"
   ]
  },
  {
   "cell_type": "markdown",
   "metadata": {},
   "source": [
    "### KNN Classifier"
   ]
  },
  {
   "cell_type": "code",
   "execution_count": 8,
   "metadata": {},
   "outputs": [
    {
     "data": {
      "text/plain": [
       "KNeighborsClassifier(algorithm='auto', leaf_size=30, metric='minkowski',\n",
       "           metric_params=None, n_jobs=1, n_neighbors=5, p=2,\n",
       "           weights='uniform')"
      ]
     },
     "execution_count": 8,
     "metadata": {},
     "output_type": "execute_result"
    }
   ],
   "source": [
    "from sklearn.neighbors import KNeighborsClassifier\n",
    "\n",
    "knn = KNeighborsClassifier()\n",
    "knn.fit(X_train_scaled,y_train)"
   ]
  },
  {
   "cell_type": "markdown",
   "metadata": {},
   "source": [
    "## Augmenting the dataset with new training examples"
   ]
  },
  {
   "cell_type": "code",
   "execution_count": 9,
   "metadata": {},
   "outputs": [
    {
     "name": "stdout",
     "output_type": "stream",
     "text": [
      "[ 51207 146500  32397 ... 198652 136367 185883]\n"
     ]
    }
   ],
   "source": [
    "def image_shift(img, s_x, s_y):\n",
    "    img = img.reshape((28, 28))\n",
    "    shifted_img = shift(img, [s_y, s_x], cval=0, mode=\"constant\")\n",
    "    return shifted_img.reshape([-1])\n",
    "\n",
    "from scipy.ndimage.interpolation import shift\n",
    "\n",
    "X_train_aug = [x for x in X_train]\n",
    "y_train_aug = [y for y in y_train]\n",
    "\n",
    "for img,label in zip(X_train,y_train):\n",
    "    X_train_aug.append(image_shift(img,1,0))          # Shift  right\n",
    "    y_train_aug.append(label)\n",
    "    X_train_aug.append(image_shift(img,0,1))          # Shift down\n",
    "    y_train_aug.append(label)\n",
    "    X_train_aug.append(image_shift(img,-1,0))         # Shift left\n",
    "    y_train_aug.append(label)\n",
    "    X_train_aug.append(image_shift(img,0,-1))         # Shift up\n",
    "    y_train_aug.append(label)\n",
    "\n",
    "X_train_aug = np.array(X_train_aug)\n",
    "y_train_aug = np.array(y_train_aug)\n",
    "\n",
    "X_train_aug.shape\n",
    "\n",
    "shuffle_index = np.random.permutation(210000)\n",
    "X_train_aug, y_train_aug = X_train_aug[shuffle_index], y_train_aug[shuffle_index]\n",
    "print(shuffle_index)  \n",
    "\n",
    "X_train_aug_scaled = sd.fit_transform(X_train_aug.astype(np.float64))"
   ]
  },
  {
   "cell_type": "code",
   "execution_count": 10,
   "metadata": {},
   "outputs": [
    {
     "data": {
      "text/plain": [
       "SGDClassifier(alpha=0.0001, average=False, class_weight=None, epsilon=0.1,\n",
       "       eta0=0.0, fit_intercept=True, l1_ratio=0.15,\n",
       "       learning_rate='optimal', loss='hinge', max_iter=5, n_iter=None,\n",
       "       n_jobs=1, penalty='l2', power_t=0.5, random_state=42, shuffle=True,\n",
       "       tol=None, verbose=0, warm_start=False)"
      ]
     },
     "execution_count": 10,
     "metadata": {},
     "output_type": "execute_result"
    }
   ],
   "source": [
    "sgd_cls_aug = SGDClassifier(random_state=42,max_iter=5)\n",
    "sgd_cls_aug.fit(X_train_aug_scaled,y_train_aug)"
   ]
  },
  {
   "cell_type": "markdown",
   "metadata": {},
   "source": [
    "### RF Classifier"
   ]
  },
  {
   "cell_type": "code",
   "execution_count": 11,
   "metadata": {},
   "outputs": [
    {
     "name": "stdout",
     "output_type": "stream",
     "text": [
      "[0.93316195 0.93777683 0.93434776]\n"
     ]
    },
    {
     "data": {
      "text/plain": [
       "RandomForestClassifier(bootstrap=True, class_weight=None, criterion='gini',\n",
       "            max_depth=None, max_features='auto', max_leaf_nodes=None,\n",
       "            min_impurity_decrease=0.0, min_impurity_split=None,\n",
       "            min_samples_leaf=1, min_samples_split=2,\n",
       "            min_weight_fraction_leaf=0.0, n_estimators=10, n_jobs=1,\n",
       "            oob_score=False, random_state=42, verbose=0, warm_start=False)"
      ]
     },
     "execution_count": 11,
     "metadata": {},
     "output_type": "execute_result"
    }
   ],
   "source": [
    "from sklearn.ensemble import RandomForestClassifier\n",
    "\n",
    "rf = RandomForestClassifier(random_state=42)\n",
    "print(cross_val_score(rf,X_train,y_train,cv=3,scoring='accuracy'))\n",
    "rf.fit(X_train,y_train)"
   ]
  },
  {
   "cell_type": "markdown",
   "metadata": {},
   "source": [
    "### Decision Tree Classifier"
   ]
  },
  {
   "cell_type": "code",
   "execution_count": 12,
   "metadata": {},
   "outputs": [
    {
     "name": "stdout",
     "output_type": "stream",
     "text": [
      "[0.84404456 0.84833548 0.84640663]\n",
      "[0.87386075 0.87377503 0.87249271]\n"
     ]
    }
   ],
   "source": [
    "from sklearn.tree import DecisionTreeClassifier\n",
    "\n",
    "dtc = DecisionTreeClassifier()\n",
    "print(cross_val_score(dtc,X_train,y_train,cv=3,scoring='accuracy'))\n",
    "print(cross_val_score(dtc,X_train_aug,y_train_aug,cv=3,scoring='accuracy'))"
   ]
  },
  {
   "cell_type": "code",
   "execution_count": 13,
   "metadata": {},
   "outputs": [
    {
     "data": {
      "text/plain": [
       "DecisionTreeClassifier(class_weight=None, criterion='gini', max_depth=None,\n",
       "            max_features=None, max_leaf_nodes=None,\n",
       "            min_impurity_decrease=0.0, min_impurity_split=None,\n",
       "            min_samples_leaf=1, min_samples_split=2,\n",
       "            min_weight_fraction_leaf=0.0, presort=False, random_state=None,\n",
       "            splitter='best')"
      ]
     },
     "execution_count": 13,
     "metadata": {},
     "output_type": "execute_result"
    }
   ],
   "source": [
    "dtc.fit(X_train_aug,y_train_aug)"
   ]
  },
  {
   "cell_type": "markdown",
   "metadata": {},
   "source": [
    "### MLP Classifier"
   ]
  },
  {
   "cell_type": "code",
   "execution_count": 24,
   "metadata": {},
   "outputs": [
    {
     "name": "stdout",
     "output_type": "stream",
     "text": [
      "[0.9641531  0.9557794  0.96663809]\n",
      "[0.97702923 0.9768578  0.97728442]\n"
     ]
    },
    {
     "data": {
      "text/plain": [
       "MLPClassifier(activation='relu', alpha=0.0001, batch_size='auto', beta_1=0.9,\n",
       "       beta_2=0.999, early_stopping=False, epsilon=1e-08,\n",
       "       hidden_layer_sizes=(100,), learning_rate='constant',\n",
       "       learning_rate_init=0.001, max_iter=200, momentum=0.9,\n",
       "       nesterovs_momentum=True, power_t=0.5, random_state=None,\n",
       "       shuffle=True, solver='adam', tol=0.0001, validation_fraction=0.1,\n",
       "       verbose=False, warm_start=False)"
      ]
     },
     "execution_count": 24,
     "metadata": {},
     "output_type": "execute_result"
    }
   ],
   "source": [
    "from sklearn.neural_network import MLPClassifier\n",
    "\n",
    "nn = MLPClassifier()\n",
    "print(cross_val_score(nn,X_train_scaled,y_train,cv=3,scoring='accuracy'))\n",
    "print(cross_val_score(nn,X_train_aug_scaled,y_train_aug,cv=3,scoring='accuracy'))\n",
    "nn.fit(X_train_scaled,y_train)"
   ]
  },
  {
   "cell_type": "markdown",
   "metadata": {},
   "source": [
    "### AdaBoost Classifier"
   ]
  },
  {
   "cell_type": "code",
   "execution_count": 15,
   "metadata": {},
   "outputs": [
    {
     "name": "stdout",
     "output_type": "stream",
     "text": [
      "[0.70744073 0.71781683 0.67823975]\n",
      "[0.70744073 0.71781683 0.67823975]\n"
     ]
    },
    {
     "data": {
      "text/plain": [
       "AdaBoostClassifier(algorithm='SAMME.R', base_estimator=None,\n",
       "          learning_rate=1.0, n_estimators=50, random_state=None)"
      ]
     },
     "execution_count": 15,
     "metadata": {},
     "output_type": "execute_result"
    }
   ],
   "source": [
    "from sklearn.ensemble import AdaBoostClassifier\n",
    "\n",
    "abc = AdaBoostClassifier()\n",
    "print(cross_val_score(abc,X_train,y_train,cv=3,scoring='accuracy'))\n",
    "print(cross_val_score(abc,X_train_scaled,y_train,cv=3,scoring='accuracy'))\n",
    "abc.fit(X_train,y_train)"
   ]
  },
  {
   "cell_type": "markdown",
   "metadata": {},
   "source": [
    "### Gaussian Naive Bayes Classifier"
   ]
  },
  {
   "cell_type": "code",
   "execution_count": 16,
   "metadata": {},
   "outputs": [
    {
     "name": "stdout",
     "output_type": "stream",
     "text": [
      "[0.55812625 0.56508073 0.56222317]\n",
      "[0.53470437 0.53686241 0.54014859]\n",
      "[0.44635868 0.43054484 0.44619693]\n"
     ]
    },
    {
     "data": {
      "text/plain": [
       "GaussianNB(priors=None)"
      ]
     },
     "execution_count": 16,
     "metadata": {},
     "output_type": "execute_result"
    }
   ],
   "source": [
    "from sklearn.naive_bayes import GaussianNB\n",
    "\n",
    "nb = GaussianNB()\n",
    "print(cross_val_score(nb,X_train,y_train,cv=3,scoring='accuracy'))\n",
    "print(cross_val_score(nb,X_train_scaled,y_train,cv=3,scoring='accuracy'))\n",
    "print(cross_val_score(nb,X_train_aug_scaled,y_train_aug,cv=3,scoring='accuracy'))\n",
    "nb.fit(X_train,y_train)"
   ]
  },
  {
   "cell_type": "code",
   "execution_count": 17,
   "metadata": {},
   "outputs": [],
   "source": [
    "X_test_scaled = sd.fit_transform(test_X.astype(np.float64))\n",
    "sgd_pred = sgd_cls.predict(X_test_scaled)"
   ]
  },
  {
   "cell_type": "code",
   "execution_count": 18,
   "metadata": {},
   "outputs": [],
   "source": [
    "ids = []\n",
    "for i in range(1,sgd_pred.shape[0]+1):\n",
    "    ids.append(i)"
   ]
  },
  {
   "cell_type": "code",
   "execution_count": 19,
   "metadata": {},
   "outputs": [],
   "source": [
    "out_sgd = pd.DataFrame({'ImageId' : ids, 'Label' : sgd_pred})"
   ]
  },
  {
   "cell_type": "code",
   "execution_count": 20,
   "metadata": {},
   "outputs": [],
   "source": [
    "out_sgd.to_csv('out_sgd.csv',index=False)             # Public Score - 0.90865"
   ]
  },
  {
   "cell_type": "code",
   "execution_count": 21,
   "metadata": {},
   "outputs": [],
   "source": [
    "sgd_aug_pred = sgd_cls_aug.predict(X_test_scaled)\n",
    "out_sgd_aug = pd.DataFrame({'ImageId' : ids, 'Label' : sgd_aug_pred})\n",
    "out_sgd_aug.to_csv('out_sgd_aug.csv',index=False)     # Public Score - 0.91357"
   ]
  },
  {
   "cell_type": "code",
   "execution_count": 22,
   "metadata": {},
   "outputs": [],
   "source": [
    "rf_pred = rf.predict(test_X)\n",
    "out_rf = pd.DataFrame({'ImageId' : ids, 'Label' : rf_pred})\n",
    "out_rf.to_csv('out_rf.csv',index=False)               # Public Score - 0.94228"
   ]
  },
  {
   "cell_type": "code",
   "execution_count": 23,
   "metadata": {},
   "outputs": [],
   "source": [
    "nn_pred = nn.predict(X_test_scaled)\n",
    "out_nn = pd.DataFrame({'ImageId' : ids, 'Label' : nn_pred})\n",
    "out_nn.to_csv('out_nn.csv',index=False)               # Public Score - 0.96414"
   ]
  },
  {
   "cell_type": "code",
   "execution_count": 25,
   "metadata": {},
   "outputs": [],
   "source": [
    "nn.fit(X_train_aug_scaled,y_train_aug)\n",
    "nn_pred_aug = nn.predict(X_test_scaled)\n",
    "out_nn_aug = pd.DataFrame({'ImageId' : ids, 'Label' : nn_pred_aug})\n",
    "out_nn_aug.to_csv('out_nn_aug.csv',index=False)       # Public Score - 0.97700"
   ]
  },
  {
   "cell_type": "markdown",
   "metadata": {},
   "source": [
    "### Hyperparameter Tuning"
   ]
  },
  {
   "cell_type": "code",
   "execution_count": 61,
   "metadata": {},
   "outputs": [
    {
     "name": "stdout",
     "output_type": "stream",
     "text": [
      "Fitting 3 folds for each of 8 candidates, totalling 24 fits\n",
      "[CV] hidden_layer_sizes=(100,), learning_rate=constant ...............\n",
      "[CV]  hidden_layer_sizes=(100,), learning_rate=constant, score=0.9778292048798606, total= 1.6min\n",
      "[CV] hidden_layer_sizes=(100,), learning_rate=constant ...............\n"
     ]
    },
    {
     "name": "stderr",
     "output_type": "stream",
     "text": [
      "[Parallel(n_jobs=1)]: Done   1 out of   1 | elapsed:  1.6min remaining:    0.0s\n"
     ]
    },
    {
     "name": "stdout",
     "output_type": "stream",
     "text": [
      "[CV]  hidden_layer_sizes=(100,), learning_rate=constant, score=0.9759292591640238, total= 1.1min\n",
      "[CV] hidden_layer_sizes=(100,), learning_rate=constant ...............\n"
     ]
    },
    {
     "name": "stderr",
     "output_type": "stream",
     "text": [
      "[Parallel(n_jobs=1)]: Done   2 out of   2 | elapsed:  2.7min remaining:    0.0s\n"
     ]
    },
    {
     "name": "stdout",
     "output_type": "stream",
     "text": [
      "[CV]  hidden_layer_sizes=(100,), learning_rate=constant, score=0.9766986684953426, total= 1.4min\n",
      "[CV] hidden_layer_sizes=(100,), learning_rate=adaptive ...............\n",
      "[CV]  hidden_layer_sizes=(100,), learning_rate=adaptive, score=0.9768006628382047, total= 1.0min\n",
      "[CV] hidden_layer_sizes=(100,), learning_rate=adaptive ...............\n",
      "[CV]  hidden_layer_sizes=(100,), learning_rate=adaptive, score=0.9774006456958373, total= 1.3min\n",
      "[CV] hidden_layer_sizes=(100,), learning_rate=adaptive ...............\n",
      "[CV]  hidden_layer_sizes=(100,), learning_rate=adaptive, score=0.9786273501342934, total= 1.4min\n",
      "[CV] hidden_layer_sizes=(133,), learning_rate=constant ...............\n",
      "[CV]  hidden_layer_sizes=(133,), learning_rate=constant, score=0.9781720522270793, total= 1.4min\n",
      "[CV] hidden_layer_sizes=(133,), learning_rate=constant ...............\n",
      "[CV]  hidden_layer_sizes=(133,), learning_rate=constant, score=0.9783863318190908, total= 1.4min\n",
      "[CV] hidden_layer_sizes=(133,), learning_rate=constant ...............\n",
      "[CV]  hidden_layer_sizes=(133,), learning_rate=constant, score=0.9783701925824333, total= 1.3min\n",
      "[CV] hidden_layer_sizes=(133,), learning_rate=adaptive ...............\n",
      "[CV]  hidden_layer_sizes=(133,), learning_rate=adaptive, score=0.9779577726350676, total= 1.6min\n",
      "[CV] hidden_layer_sizes=(133,), learning_rate=adaptive ...............\n",
      "[CV]  hidden_layer_sizes=(133,), learning_rate=adaptive, score=0.9775434987571784, total= 1.4min\n",
      "[CV] hidden_layer_sizes=(133,), learning_rate=adaptive ...............\n",
      "[CV]  hidden_layer_sizes=(133,), learning_rate=adaptive, score=0.9787987885022001, total= 1.4min\n",
      "[CV] hidden_layer_sizes=(133,), max_iter=200 .........................\n",
      "[CV]  hidden_layer_sizes=(133,), max_iter=200, score=0.9788006056969801, total= 1.5min\n",
      "[CV] hidden_layer_sizes=(133,), max_iter=200 .........................\n",
      "[CV]  hidden_layer_sizes=(133,), max_iter=200, score=0.9782434787577498, total= 1.4min\n",
      "[CV] hidden_layer_sizes=(133,), max_iter=200 .........................\n",
      "[CV]  hidden_layer_sizes=(133,), max_iter=200, score=0.9782130407451854, total=  50.9s\n",
      "[CV] hidden_layer_sizes=(133,), max_iter=220 .........................\n",
      "[CV]  hidden_layer_sizes=(133,), max_iter=220, score=0.9785434701865661, total= 1.3min\n",
      "[CV] hidden_layer_sizes=(133,), max_iter=220 .........................\n",
      "[CV]  hidden_layer_sizes=(133,), max_iter=220, score=0.9778292048798606, total= 1.3min\n",
      "[CV] hidden_layer_sizes=(133,), max_iter=220 .........................\n",
      "[CV]  hidden_layer_sizes=(133,), max_iter=220, score=0.9791559517686725, total= 1.5min\n",
      "[CV] hidden_layer_sizes=(133, 25), max_iter=200 ......................\n",
      "[CV]  hidden_layer_sizes=(133, 25), max_iter=200, score=0.9780720550841404, total= 1.5min\n",
      "[CV] hidden_layer_sizes=(133, 25), max_iter=200 ......................\n",
      "[CV]  hidden_layer_sizes=(133, 25), max_iter=200, score=0.977229222022228, total= 1.3min\n",
      "[CV] hidden_layer_sizes=(133, 25), max_iter=200 ......................\n",
      "[CV]  hidden_layer_sizes=(133, 25), max_iter=200, score=0.9788416480941768, total= 1.2min\n",
      "[CV] hidden_layer_sizes=(133, 25), max_iter=220 ......................\n",
      "[CV]  hidden_layer_sizes=(133, 25), max_iter=220, score=0.9786148967172367, total= 1.6min\n",
      "[CV] hidden_layer_sizes=(133, 25), max_iter=220 ......................\n",
      "[CV]  hidden_layer_sizes=(133, 25), max_iter=220, score=0.9758721179394875, total= 1.0min\n",
      "[CV] hidden_layer_sizes=(133, 25), max_iter=220 ......................\n",
      "[CV]  hidden_layer_sizes=(133, 25), max_iter=220, score=0.9772558431910395, total= 1.0min\n"
     ]
    },
    {
     "name": "stderr",
     "output_type": "stream",
     "text": [
      "[Parallel(n_jobs=1)]: Done  24 out of  24 | elapsed: 32.2min finished\n"
     ]
    },
    {
     "data": {
      "text/plain": [
       "GridSearchCV(cv=3, error_score='raise',\n",
       "       estimator=MLPClassifier(activation='relu', alpha=0.0001, batch_size='auto', beta_1=0.9,\n",
       "       beta_2=0.999, early_stopping=False, epsilon=1e-08,\n",
       "       hidden_layer_sizes=(100,), learning_rate='constant',\n",
       "       learning_rate_init=0.001, max_iter=200, momentum=0.9,\n",
       "       nesterovs_momentum=True, power_t=0.5, random_state=None,\n",
       "       shuffle=True, solver='adam', tol=0.0001, validation_fraction=0.1,\n",
       "       verbose=False, warm_start=False),\n",
       "       fit_params=None, iid=True, n_jobs=1,\n",
       "       param_grid=[{'hidden_layer_sizes': [(100,), (133,)], 'learning_rate': ['constant', 'adaptive']}, {'hidden_layer_sizes': [(133,), (133, 25)], 'max_iter': [200, 220]}],\n",
       "       pre_dispatch='2*n_jobs', refit=True, return_train_score=True,\n",
       "       scoring='accuracy', verbose=3)"
      ]
     },
     "execution_count": 61,
     "metadata": {},
     "output_type": "execute_result"
    }
   ],
   "source": [
    "from sklearn.model_selection import GridSearchCV\n",
    "\n",
    "param_grid_nn = [{'hidden_layer_sizes' : [(100,),(133,)], 'learning_rate' : ['constant','adaptive']},\n",
    "                 {'hidden_layer_sizes' : [(133,),(133,25)], 'max_iter' : [200,220]}]\n",
    "\n",
    "nn_gs = MLPClassifier()\n",
    "grid_search_nn = GridSearchCV(nn_gs,param_grid_nn,cv=3,scoring='accuracy',return_train_score=True,verbose=3)\n",
    "grid_search_nn.fit(X_train_aug_scaled,y_train_aug)"
   ]
  },
  {
   "cell_type": "code",
   "execution_count": 62,
   "metadata": {},
   "outputs": [
    {
     "data": {
      "text/plain": [
       "MLPClassifier(activation='relu', alpha=0.0001, batch_size='auto', beta_1=0.9,\n",
       "       beta_2=0.999, early_stopping=False, epsilon=1e-08,\n",
       "       hidden_layer_sizes=(133,), learning_rate='constant',\n",
       "       learning_rate_init=0.001, max_iter=220, momentum=0.9,\n",
       "       nesterovs_momentum=True, power_t=0.5, random_state=None,\n",
       "       shuffle=True, solver='adam', tol=0.0001, validation_fraction=0.1,\n",
       "       verbose=False, warm_start=False)"
      ]
     },
     "execution_count": 62,
     "metadata": {},
     "output_type": "execute_result"
    }
   ],
   "source": [
    "grid_search_nn.best_estimator_"
   ]
  },
  {
   "cell_type": "code",
   "execution_count": 63,
   "metadata": {},
   "outputs": [],
   "source": [
    "grid_search_nn_pred = grid_search_nn.predict(X_test_scaled)\n",
    "out_nn_gs = pd.DataFrame({'ImageId' : ids, 'Label' : grid_search_nn_pred})\n",
    "out_nn_gs.to_csv('out_nn_gs.csv',index=False)                    # Public Score - 0.98128"
   ]
  },
  {
   "cell_type": "code",
   "execution_count": 66,
   "metadata": {},
   "outputs": [
    {
     "data": {
      "text/plain": [
       "array([[20416,     7,    35,    11,    17,    28,    52,    16,    38,\n",
       "           40],\n",
       "       [    1, 23141,    76,    43,    26,     9,    14,    55,    37,\n",
       "           18],\n",
       "       [   41,    31, 20424,   101,    37,    10,    28,   116,    73,\n",
       "           24],\n",
       "       [   17,    23,   136, 21097,    10,   177,     2,    84,   118,\n",
       "           91],\n",
       "       [   12,    26,    57,     3, 19864,     8,    55,    45,    25,\n",
       "          265],\n",
       "       [   35,     9,    16,   154,    23, 18474,    67,    29,   108,\n",
       "           60],\n",
       "       [   86,    17,    33,     3,    65,    94, 20343,     5,    37,\n",
       "            2],\n",
       "       [   11,    49,   111,    40,    51,    19,     2, 21505,    31,\n",
       "          186],\n",
       "       [   39,    65,    88,   121,    36,   110,    44,    39, 19684,\n",
       "           89],\n",
       "       [   36,    16,    18,    66,   159,    50,     2,   149,    70,\n",
       "        20374]], dtype=int64)"
      ]
     },
     "execution_count": 66,
     "metadata": {},
     "output_type": "execute_result"
    }
   ],
   "source": [
    "from sklearn.model_selection import cross_val_predict\n",
    "from sklearn.metrics import confusion_matrix\n",
    "nn_best = MLPClassifier(hidden_layer_sizes=(133,),learning_rate='constant')\n",
    "nn_best.fit(X_train_aug_scaled,y_train_aug)\n",
    "nn_pred_best = nn_best.predict(X_test_scaled)\n",
    "out_nn_best = pd.DataFrame({'ImageId' : ids, 'Label' : nn_pred_best})\n",
    "out_nn_best.to_csv('out_nn_best.csv',index=False)               # Public Score - 0.97985\n",
    "\n",
    "y_train_pred_sgd = cross_val_predict(nn_best,X_train_aug_scaled,y_train_aug,cv=3)\n",
    "conf_mx_nn_best = confusion_matrix(y_train_aug,y_train_pred_sgd)        # Confusion Matrix for NN\n",
    "conf_mx_nn_best"
   ]
  },
  {
   "cell_type": "code",
   "execution_count": 67,
   "metadata": {},
   "outputs": [
    {
     "data": {
      "image/png": "[encoded data removed]",
      "text/plain": [
       "<Figure size 288x288 with 1 Axes>"
      ]
     },
     "metadata": {},
     "output_type": "display_data"
    }
   ],
   "source": [
    "plt.matshow(conf_mx_nn_best,cmap=plt.cm.gray)\n",
    "plt.show()"
   ]
  },
  {
   "cell_type": "code",
   "execution_count": 68,
   "metadata": {},
   "outputs": [
    {
     "data": {
      "text/plain": [
       "array([[0.00000000e+00, 3.38818974e-04, 1.69409487e-03, 5.32429816e-04,\n",
       "        8.22846079e-04, 1.35527590e-03, 2.51694095e-03, 7.74443369e-04,\n",
       "        1.83930300e-03, 1.93610842e-03],\n",
       "       [4.26985482e-05, 0.00000000e+00, 3.24508967e-03, 1.83603757e-03,\n",
       "        1.11016225e-03, 3.84286934e-04, 5.97779675e-04, 2.34842015e-03,\n",
       "        1.57984629e-03, 7.68573868e-04],\n",
       "       [1.96313143e-03, 1.48431889e-03, 0.00000000e+00, 4.83600670e-03,\n",
       "        1.77160642e-03, 4.78812545e-04, 1.34067513e-03, 5.55422552e-03,\n",
       "        3.49533158e-03, 1.14915011e-03],\n",
       "       [7.81429556e-04, 1.05722822e-03, 6.25143645e-03, 0.00000000e+00,\n",
       "        4.59664445e-04, 8.13606068e-03, 9.19328890e-05, 3.86118134e-03,\n",
       "        5.42404045e-03, 4.18294645e-03],\n",
       "       [5.89390963e-04, 1.27701375e-03, 2.79960707e-03, 1.47347741e-04,\n",
       "        0.00000000e+00, 3.92927308e-04, 2.70137525e-03, 2.21021611e-03,\n",
       "        1.22789784e-03, 1.30157171e-02],\n",
       "       [1.84453228e-03, 4.74308300e-04, 8.43214756e-04, 8.11594203e-03,\n",
       "        1.21212121e-03, 0.00000000e+00, 3.53096179e-03, 1.52832675e-03,\n",
       "        5.69169960e-03, 3.16205534e-03],\n",
       "       [4.15760213e-03, 8.21851583e-04, 1.59535896e-03, 1.45032632e-04,\n",
       "        3.14237370e-03, 4.54435581e-03, 0.00000000e+00, 2.41721054e-04,\n",
       "        1.78873580e-03, 9.66884216e-05],\n",
       "       [4.99886389e-04, 2.22676664e-03, 5.04430811e-03, 1.81776869e-03,\n",
       "        2.31765508e-03, 8.63440127e-04, 9.08884344e-05, 0.00000000e+00,\n",
       "        1.40877073e-03, 8.45262440e-03],\n",
       "       [1.91976372e-03, 3.19960620e-03, 4.33177455e-03, 5.95619001e-03,\n",
       "        1.77208959e-03, 5.41471819e-03, 2.16588728e-03, 1.91976372e-03,\n",
       "        0.00000000e+00, 4.38099926e-03],\n",
       "       [1.71919771e-03, 7.64087870e-04, 8.59598854e-04, 3.15186246e-03,\n",
       "        7.59312321e-03, 2.38777459e-03, 9.55109838e-05, 7.11556829e-03,\n",
       "        3.34288443e-03, 0.00000000e+00]])"
      ]
     },
     "execution_count": 68,
     "metadata": {},
     "output_type": "execute_result"
    }
   ],
   "source": [
    "row_sums_nn_best = conf_mx_nn_best.sum(axis=1,keepdims=True)\n",
    "norm_conf_mx_nn_best = conf_mx_nn_best / row_sums_nn_best   # Normalized Confusion Matrix\n",
    "np.fill_diagonal(norm_conf_mx_nn_best,0)            # Replace diagonal elements with 0\n",
    "norm_conf_mx_nn_best"
   ]
  },
  {
   "cell_type": "code",
   "execution_count": 69,
   "metadata": {},
   "outputs": [
    {
     "data": {
      "image/png": "[encoded data removed]",
      "text/plain": [
       "<Figure size 288x288 with 1 Axes>"
      ]
     },
     "metadata": {},
     "output_type": "display_data"
    }
   ],
   "source": [
    "plt.matshow(norm_conf_mx_nn_best,cmap=plt.cm.gray)\n",
    "plt.show()"
   ]
  },
  {
   "cell_type": "markdown",
   "metadata": {},
   "source": [
    "We can observe that our model wrongly classifies most of the 4's as 9."
   ]
  }
 ],
 "metadata": {
  "kernelspec": {
   "display_name": "Python 3",
   "language": "python",
   "name": "python3"
  },
  "language_info": {
   "codemirror_mode": {
    "name": "ipython",
    "version": 3
   },
   "file_extension": ".py",
   "mimetype": "text/x-python",
   "name": "python",
   "nbconvert_exporter": "python",
   "pygments_lexer": "ipython3",
   "version": "3.6.5"
  }
 },
 "nbformat": 4,
 "nbformat_minor": 2
}
